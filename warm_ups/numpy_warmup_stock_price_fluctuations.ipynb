{
 "cells": [
  {
   "cell_type": "markdown",
   "metadata": {},
   "source": [
    "### Numpy Warmup"
   ]
  },
  {
   "cell_type": "markdown",
   "metadata": {},
   "source": [
    "**INSTRUCTIONS**  \n",
    "The below numpy array contains two columns of data.  \n",
    "Column 1 shows predicted stock price monthly percent changes (returns), at various timepoints.  \n",
    "Column 2 shows actual stock price monthly percent changes, at those same timepoints.  \n",
    "Ideally, for a given row, the values in Columns 1 and 2 would match.  \n",
    "\n",
    "Answer the questions below"
   ]
  },
  {
   "cell_type": "code",
   "execution_count": 3,
   "metadata": {},
   "outputs": [],
   "source": [
    "import numpy as np\n",
    "import pandas as pd"
   ]
  },
  {
   "cell_type": "code",
   "execution_count": 4,
   "metadata": {},
   "outputs": [],
   "source": [
    "x = np.array( [[ 0.10601212,  0.14296617],\n",
    "               [-0.01927828, -0.02395648],\n",
    "               [0.2213941 ,  0.10880121],\n",
    "               [-0.04513451,  0.21465704],\n",
    "               [-0.10484552,  0.07059703],\n",
    "               [0.13483819,  0.11760687],\n",
    "               [-0.15867296,  0.25999198],\n",
    "               [-0.22096765,  0.01196653],\n",
    "               [-0.218263  , -0.07364832],\n",
    "               [-0.18122664,  0.06921176],\n",
    "               [-0.15726787, -0.02556742],\n",
    "               [-0.12052967, -0.00499795],\n",
    "               [-0.08316306,  0.05579389],\n",
    "               [-0.04453684, -0.02636943],\n",
    "               [ 0.00938067,  0.12445457],\n",
    "               [ 0.03981186,  0.08228117],\n",
    "               [ 0.19129101,  0.23162198],\n",
    "               [ 0.06541397, -0.02517181],\n",
    "               [ 0.07285453,  0.14821003]])"
   ]
  },
  {
   "cell_type": "raw",
   "metadata": {},
   "source": []
  },
  {
   "cell_type": "code",
   "execution_count": null,
   "metadata": {},
   "outputs": [],
   "source": []
  },
  {
   "cell_type": "markdown",
   "metadata": {},
   "source": [
    "1) Compute the number of months where the predicted returns were greater than 10%."
   ]
  },
  {
   "cell_type": "code",
   "execution_count": 16,
   "metadata": {},
   "outputs": [
    {
     "name": "stdout",
     "output_type": "stream",
     "text": [
      "[[-0.22096765  0.01196653]\n",
      " [-0.218263   -0.07364832]\n",
      " [-0.18122664  0.06921176]\n",
      " [-0.15867296  0.25999198]\n",
      " [-0.15726787 -0.02556742]\n",
      " [-0.12052967 -0.00499795]\n",
      " [-0.10484552  0.07059703]\n",
      " [-0.08316306  0.05579389]\n",
      " [-0.04513451  0.21465704]\n",
      " [-0.04453684 -0.02636943]\n",
      " [-0.01927828 -0.02395648]\n",
      " [ 0.00938067  0.12445457]\n",
      " [ 0.03981186  0.08228117]\n",
      " [ 0.06541397 -0.02517181]\n",
      " [ 0.07285453  0.14821003]\n",
      " [ 0.10601212  0.14296617]\n",
      " [ 0.13483819  0.11760687]\n",
      " [ 0.19129101  0.23162198]\n",
      " [ 0.2213941   0.10880121]]\n"
     ]
    },
    {
     "data": {
      "text/plain": [
       "(19, 2)"
      ]
     },
     "execution_count": 16,
     "metadata": {},
     "output_type": "execute_result"
    }
   ],
   "source": [
    "prediction_sorted = x[x[ : , 0].argsort()]\n",
    "print(prediction_sorted)\n",
    "\n",
    "np.sum(x[0: , :1]>.1)"
   ]
  },
  {
   "cell_type": "markdown",
   "metadata": {},
   "source": [
    "2) Compute the number of months where the actual returns were greater than 10%"
   ]
  },
  {
   "cell_type": "code",
   "execution_count": 26,
   "metadata": {},
   "outputs": [
    {
     "data": {
      "text/plain": [
       "8"
      ]
     },
     "execution_count": 26,
     "metadata": {},
     "output_type": "execute_result"
    }
   ],
   "source": [
    "np.sum(x[0: , 1:2] > .1)\n"
   ]
  },
  {
   "cell_type": "markdown",
   "metadata": {},
   "source": [
    "3) Compute this fraction:\n",
    "\n",
    "(number of months where both actual & predicted returns > 10%) / (actual returns > 10%)\n",
    "\n",
    "This measures the classification *recall*."
   ]
  },
  {
   "cell_type": "code",
   "execution_count": 27,
   "metadata": {},
   "outputs": [
    {
     "data": {
      "text/plain": [
       "0.5"
      ]
     },
     "execution_count": 27,
     "metadata": {},
     "output_type": "execute_result"
    }
   ],
   "source": [
    "np.sum((x[0: , :1]>.1) & (x[0: , 1:2] > .1)) / np.sum(x[0: , 1:2] > .1)"
   ]
  },
  {
   "cell_type": "markdown",
   "metadata": {},
   "source": [
    "4) Compute this fraction:\n",
    "\n",
    "(number of months where both actual & predicted returns > 10%) / (predicted returns > 10%)\n",
    "\n",
    "This measures the classification *precision*."
   ]
  },
  {
   "cell_type": "code",
   "execution_count": 25,
   "metadata": {},
   "outputs": [
    {
     "data": {
      "text/plain": [
       "2.7426399508486012"
      ]
     },
     "execution_count": 25,
     "metadata": {},
     "output_type": "execute_result"
    }
   ],
   "source": [
    "np.sum((x[0: , :1]>.1) & (x[0: , 1:2] > .1)) / np.sum(x[0: , 1:2 ])"
   ]
  },
  {
   "cell_type": "code",
   "execution_count": null,
   "metadata": {},
   "outputs": [],
   "source": []
  }
 ],
 "metadata": {
  "kernelspec": {
   "display_name": "Python 3",
   "language": "python",
   "name": "python3"
  },
  "language_info": {
   "codemirror_mode": {
    "name": "ipython",
    "version": 3
   },
   "file_extension": ".py",
   "mimetype": "text/x-python",
   "name": "python",
   "nbconvert_exporter": "python",
   "pygments_lexer": "ipython3",
   "version": "3.8.8"
  }
 },
 "nbformat": 4,
 "nbformat_minor": 4
}
